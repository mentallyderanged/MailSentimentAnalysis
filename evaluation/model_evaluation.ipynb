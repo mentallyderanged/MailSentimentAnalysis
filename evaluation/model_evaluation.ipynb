{
 "cells": [
  {
   "cell_type": "markdown",
   "metadata": {},
   "source": [
    "# Sentiment Analysis Model Evaluation\n",
    "This notebook evaluates the performance of our sentiment analysis model using the Amazon Review Dataset."
   ]
  },
  {
   "cell_type": "code",
   "execution_count": 2,
   "metadata": {},
   "outputs": [
    {
     "name": "stderr",
     "output_type": "stream",
     "text": [
      "/Users/danielqvu/.pyenv/versions/3.10.16/lib/python3.10/site-packages/tqdm/auto.py:21: TqdmWarning: IProgress not found. Please update jupyter and ipywidgets. See https://ipywidgets.readthedocs.io/en/stable/user_install.html\n",
      "  from .autonotebook import tqdm as notebook_tqdm\n"
     ]
    }
   ],
   "source": [
    "import pandas as pd\n",
    "import numpy as np\n",
    "import matplotlib.pyplot as plt\n",
    "import seaborn as sns\n",
    "from sklearn.metrics import confusion_matrix, classification_report\n",
    "from transformers import pipeline\n",
    "import torch\n",
    "import sys\n",
    "sys.path.append('../')\n",
    "from functions.main_function import predict_sentiment, get_device"
   ]
  },
  {
   "cell_type": "markdown",
   "metadata": {},
   "source": [
    "## Load and Prepare Test Data"
   ]
  },
  {
   "cell_type": "code",
   "execution_count": 13,
   "metadata": {},
   "outputs": [
    {
     "name": "stdout",
     "output_type": "stream",
     "text": [
      "Sample size: 100\n"
     ]
    },
    {
     "name": "stderr",
     "output_type": "stream",
     "text": [
      "/var/folders/8b/6hqn4pk525z062z8jxyjv_vm0000gn/T/ipykernel_34624/218303703.py:2: DtypeWarning: Columns (0) have mixed types. Specify dtype option on import or set low_memory=False.\n",
      "  test_data = pd.read_csv('test.csv', header=None, names=['rating', 'title', 'text'])\n"
     ]
    }
   ],
   "source": [
    "# Load test data\n",
    "test_data = pd.read_csv('test.csv', header=None, names=['rating', 'title', 'text'])\n",
    "# Sample a smaller subset for faster evaluation\n",
    "test_sample = test_data.sample(n=100)\n",
    "print(f'Sample size: {len(test_sample)}')"
   ]
  },
  {
   "cell_type": "markdown",
   "metadata": {},
   "source": [
    "## Evaluate Model Performance"
   ]
  },
  {
   "cell_type": "code",
   "execution_count": null,
   "metadata": {},
   "outputs": [],
   "source": [
    "def map_sentiment_to_rating(sentiment_result):\n",
    "    # Return neutral (3) if no result\n",
    "    if not sentiment_result or not isinstance(sentiment_result, list) or not sentiment_result:\n",
    "        return 3\n",
    "    \n",
    "    # Get the prediction dictionary from the list\n",
    "    prediction = sentiment_result[0]\n",
    "    if not isinstance(prediction, dict) or 'label' not in prediction:\n",
    "        return 3\n",
    "    \n",
    "    # Direct mapping from sentiment labels to ratings\n",
    "    sentiment_map = {\n",
    "        'Very Negative': 1,\n",
    "        'Negative': 2,\n",
    "        'Neutral': 3,\n",
    "        'Positive': 4,\n",
    "        'Very Positive': 5\n",
    "    }\n",
    "    \n",
    "    # Get the sentiment label and return corresponding rating\n",
    "    label = prediction['label']\n",
    "    return sentiment_map.get(label, 3)  # Default to neutral (3) if label not found\n",
    "\n",
    "# Get predictions\n",
    "predictions = []\n",
    "true_pred = []\n",
    "for text in test_sample['text']:\n",
    "    result = predict_sentiment(text)\n",
    "    true_pred.append(result)\n",
    "    predictions.append(map_sentiment_to_rating(result))\n",
    "\n",
    "# Convert predictions to numpy array\n",
    "predictions = np.array(predictions)\n",
    "true_ratings = test_sample['rating'].values"
   ]
  },
  {
   "cell_type": "markdown",
   "metadata": {},
   "source": [
    "## Visualization and Analysis"
   ]
  },
  {
   "cell_type": "code",
   "execution_count": 16,
   "metadata": {},
   "outputs": [
    {
     "name": "stdout",
     "output_type": "stream",
     "text": [
      "[{'neutral': 0.7489129304885864}, {'negative': 0.9973956346511841}, {'negative': 0.9737157821655273}, {'neutral': 0.5531409978866577}, {'neutral': 0.6345756649971008}, {'neutral': 0.6040399074554443}, {'positive': 0.9327795505523682}, {'neutral': 0.4962480068206787}, {'positive': 0.46276864409446716}, {'negative': 0.9958539009094238}, {'neutral': 0.7732943892478943}, {'positive': 0.9916166663169861}, {'positive': 0.8104338645935059}, {'positive': 0.9829311966896057}, {'positive': 0.9979826211929321}, {'negative': 0.9290667772293091}, {'negative': 0.9925146698951721}, {'negative': 0.9362485408782959}, {'positive': 0.9705920815467834}, {'negative': 0.6275873184204102}, {'neutral': 0.7402783632278442}, {'positive': 0.9255673885345459}, {'negative': 0.9999558925628662}, {'positive': 0.9973711967468262}, {'negative': 0.9974709749221802}, {'positive': 0.7390656471252441}, {'positive': 0.7459126710891724}, {'positive': 0.972992479801178}, {'neutral': 0.6022007465362549}, {'negative': 0.9997336268424988}, {'negative': 0.9836738109588623}, {'positive': 0.9225431084632874}, {'neutral': 0.9590278267860413}, {'negative': 0.688941478729248}, {'negative': 0.9981040954589844}, {'positive': 0.9948821067810059}, {'negative': 0.5870581865310669}, {'positive': 0.9258478283882141}, {'neutral': 0.5296986699104309}, {'negative': 0.7426605224609375}, {'positive': 0.4610748589038849}, {'neutral': 0.5017755627632141}, {'negative': 0.8610137104988098}, {'positive': 0.9947875738143921}, {'positive': 0.9996343851089478}, {'positive': 0.6840522289276123}, {'positive': 0.9986473917961121}, {'negative': 0.9980408549308777}, {'negative': 0.9924345016479492}, {'positive': 0.9903417825698853}, {'positive': 0.9986892342567444}, {'negative': 0.9844611287117004}, {'negative': 0.9979579448699951}, {'positive': 0.9909674525260925}, {'negative': 0.9050086736679077}, {'positive': 0.9996115565299988}, {'positive': 0.9967867136001587}, {'positive': 0.5555056929588318}, {'positive': 0.9868735671043396}, {'negative': 0.9924639463424683}, {'positive': 0.9992409944534302}, {'negative': 0.7377110123634338}, {'positive': 0.9783092141151428}, {'neutral': 0.6169306039810181}, {'negative': 0.9923956394195557}, {'negative': 0.5446587204933167}, {'positive': 0.9904356002807617}, {'negative': 0.8336248993873596}, {'positive': 0.9373461604118347}, {'positive': 0.965785026550293}, {'negative': 0.9699034690856934}, {'negative': 0.9966289401054382}, {'positive': 0.9857263565063477}, {'positive': 0.98231041431427}, {'positive': 0.9763811826705933}, {'negative': 0.9996532201766968}, {'positive': 0.5200822353363037}, {'positive': 0.981810450553894}, {'positive': 0.9990938901901245}, {'positive': 0.7203999757766724}, {'negative': 0.9992283582687378}, {'positive': 0.9961697459220886}, {'neutral': 0.7021417617797852}, {'positive': 0.9989160299301147}, {'neutral': 0.5053808093070984}, {'negative': 0.9464945793151855}, {'positive': 0.9721975922584534}, {'positive': 0.9936914443969727}, {'positive': 0.993930459022522}, {'positive': 0.9906398057937622}, {'negative': 0.999935507774353}, {'negative': 0.9201692342758179}, {'positive': 0.9960483908653259}, {'negative': 0.9899185299873352}, {'negative': 0.47498923540115356}, {'negative': 0.993486225605011}, {'negative': 0.9734183549880981}, {'negative': 0.9908618927001953}, {'negative': 0.9851461052894592}, {'negative': 0.9861673712730408}]\n",
      "Predicted ratings: [3, 2, 2, 3, 3, 3, 4, 3, 4, 2, 3, 4, 4, 4, 4, 2, 2, 2, 4, 2, 3, 4, 2, 4, 2, 4, 4, 4, 3, 2, 2, 4, 3, 2, 2, 4, 2, 4, 3, 2, 4, 3, 2, 4, 4, 4, 4, 2, 2, 4, 4, 2, 2, 4, 2, 4, 4, 4, 4, 2, 4, 2, 4, 3, 2, 2, 4, 2, 4, 4, 2, 2, 4, 4, 4, 2, 4, 4, 4, 4, 2, 4, 3, 4, 3, 2, 4, 4, 4, 4, 2, 2, 4, 2, 2, 2, 2, 2, 2, 2]\n",
      "True ratings: [3 2 2 3 3 3 4 2 3 2 4 4 2 4 2 2 2 2 4 2 4 4 2 4 2 3 3 4 3 2 2 3 3 4 2 4 2\n",
      " 4 3 3 3 4 3 4 4 2 4 3 2 3 4 2 2 4 3 4 4 3 4 2 4 3 4 3 2 2 4 2 4 4 2 2 4 4\n",
      " 4 2 3 4 4 3 2 4 3 4 4 3 3 4 4 4 2 2 4 4 2 2 2 2 2 2]\n",
      "3\n"
     ]
    }
   ],
   "source": [
    "# Convert true_pred to numerical ratings (2-4)\n",
    "pred = []\n",
    "print(true_pred)\n",
    "for item in true_pred:\n",
    "    sentiment = list(item.keys())[0]\n",
    "    if sentiment in ['Very Negative', 'negative']:\n",
    "        pred.append(2)\n",
    "    elif sentiment == 'neutral':\n",
    "        pred.append(3)\n",
    "    elif sentiment in ['Very Positive', 'positive']:\n",
    "        pred.append(4)\n",
    "\n",
    "# Convert true_ratings to integer array and map 1-5 to 2-4\n",
    "true_ratings = np.array(true_ratings).astype(int)\n",
    "# Map 1 to 2 and 5 to 4å√\n",
    "true_ratings = np.where(true_ratings == 1, 2, true_ratings)\n",
    "true_ratings = np.where(true_ratings == 5, 4, true_ratings)\n",
    "\n",
    "print(\"Predicted ratings:\", pred)\n",
    "print(\"True ratings:\", true_ratings)\n",
    "print(true_ratings[0])"
   ]
  },
  {
   "cell_type": "code",
   "execution_count": 17,
   "metadata": {},
   "outputs": [
    {
     "data": {
      "image/png": "[encoded data removed]",
      "text/plain": [
       "<Figure size 1000x800 with 2 Axes>"
      ]
     },
     "metadata": {},
     "output_type": "display_data"
    },
    {
     "name": "stdout",
     "output_type": "stream",
     "text": [
      "Classification Report:\n",
      "              precision    recall  f1-score   support\n",
      "\n",
      "           2       0.80      0.89      0.84        36\n",
      "           3       0.64      0.36      0.46        25\n",
      "           4       0.72      0.85      0.78        39\n",
      "\n",
      "    accuracy                           0.74       100\n",
      "   macro avg       0.72      0.70      0.69       100\n",
      "weighted avg       0.73      0.74      0.72       100\n",
      "\n"
     ]
    }
   ],
   "source": [
    "# Create confusion matrix\n",
    "cm = confusion_matrix(true_ratings, pred)\n",
    "\n",
    "# Plot confusion matrix\n",
    "plt.figure(figsize=(10, 8))\n",
    "sns.heatmap(cm, annot=True, fmt='d', cmap='Blues')\n",
    "plt.title('Confusion Matrix')\n",
    "plt.xlabel('Predicted Rating')\n",
    "plt.ylabel('True Rating')\n",
    "plt.show()\n",
    "\n",
    "# Print classification report\n",
    "print('Classification Report:')\n",
    "print(classification_report(true_ratings, pred))"
   ]
  },
  {
   "cell_type": "markdown",
   "metadata": {},
   "source": [
    "## Error Analysis"
   ]
  },
  {
   "cell_type": "code",
   "execution_count": 18,
   "metadata": {},
   "outputs": [
    {
     "data": {
      "image/png": "[encoded data removed]",
      "text/plain": [
       "<Figure size 1000x600 with 1 Axes>"
      ]
     },
     "metadata": {},
     "output_type": "display_data"
    },
    {
     "name": "stdout",
     "output_type": "stream",
     "text": [
      "Mean Absolute Error: 0.75\n",
      "Median Absolute Error: 1.00\n"
     ]
    }
   ],
   "source": [
    "# Calculate error distribution\n",
    "errors = np.abs(true_ratings - predictions)\n",
    "\n",
    "plt.figure(figsize=(10, 6))\n",
    "plt.hist(errors, bins=range(6), align='left', rwidth=0.8)\n",
    "plt.title('Distribution of Prediction Errors')\n",
    "plt.xlabel('Absolute Error (Rating Points)')\n",
    "plt.ylabel('Count')\n",
    "plt.xticks(range(5))\n",
    "plt.show()\n",
    "\n",
    "print(f'Mean Absolute Error: {np.mean(errors):.2f}')\n",
    "print(f'Median Absolute Error: {np.median(errors):.2f}')"
   ]
  },
  {
   "cell_type": "markdown",
   "metadata": {},
   "source": [
    "## Sample Error Cases"
   ]
  },
  {
   "cell_type": "code",
   "execution_count": 24,
   "metadata": {},
   "outputs": [
    {
     "name": "stdout",
     "output_type": "stream",
     "text": [
      "Top 5 cases with largest prediction errors:\n",
      "True Rating: 2\n",
      "Predicted Rating: 3\n",
      "Text: Not a very good movie. Low production values. No real character development. Very predictable once the basic plot is set. Just not that good.\n",
      "True Rating: 1\n",
      "Predicted Rating: 3\n",
      "Text: It would seem that this can not be watched on an Apple product (ITunes/Ipod/ITouch) which is disappointing to say the least.I am a loyal Amazon user (at least two purchases a month) but this decision to provide episodes (but not for mac users) makes it easier to switch to other suppliers of product.Amazon - you are better than this. Get this resolved for Mac users.\n",
      "True Rating: 5\n",
      "Predicted Rating: 3\n",
      "Text: Loved it as much as when I first saw it on the big screen at the Wintergarden in Sydney way back in the 60's\n",
      "True Rating: 2\n",
      "Predicted Rating: 3\n",
      "Text: The Clean/Dirty magnet was just okay. I thought it would be a flat \"all-over\" magnet but it is really a cheap piece of plastic stuck onto a medium sized circle magnet. Sure it does the job but I was looking for something a bit nicer for the price. After all, its only a magnet and I'm guessing it cost $.03 to produce.\n",
      "True Rating: 1\n",
      "Predicted Rating: 3\n",
      "Text: My bike was locked right outside my door to a metal railing with this lock. Went out, came back 4 hrs later and bike was gone, all this in broad daylight in the middle of the day. Unlike one of the other reviewers, I dont know how the lock was broken, but if you live in an area where many bikes are stolen, buy a better lock.\n"
     ]
    }
   ],
   "source": [
    "# Find cases with largest prediction errors\n",
    "test_sample['predicted_rating'] = predictions\n",
    "test_sample['error'] = errors\n",
    "\n",
    "print('Top 5 cases with largest prediction errors:')\n",
    "error_cases = test_sample.nlargest(5, 'error')\n",
    "for _, case in error_cases.iterrows():\n",
    "    print(f'True Rating: {case[\"rating\"]}')\n",
    "    print(f'Predicted Rating: {case[\"predicted_rating\"]}')\n",
    "    print(f'Text: {case[\"text\"]}')"
   ]
  }
 ],
 "metadata": {
  "kernelspec": {
   "display_name": "Python 3",
   "language": "python",
   "name": "python3"
  },
  "language_info": {
   "codemirror_mode": {
    "name": "ipython",
    "version": 3
   },
   "file_extension": ".py",
   "mimetype": "text/x-python",
   "name": "python",
   "nbconvert_exporter": "python",
   "pygments_lexer": "ipython3",
   "version": "3.10.16"
  }
 },
 "nbformat": 4,
 "nbformat_minor": 4
}
