{
 "cells": [
  {
   "cell_type": "markdown",
   "metadata": {},
   "source": [
    "# Sentiment Analysis Model Evaluation\n",
    "This notebook evaluates the performance of our sentiment analysis model using the Amazon Review Dataset."
   ]
  },
  {
   "cell_type": "code",
   "execution_count": 2,
   "metadata": {},
   "outputs": [
    {
     "name": "stderr",
     "output_type": "stream",
     "text": [
      "/Users/danielqvu/.pyenv/versions/3.10.16/lib/python3.10/site-packages/tqdm/auto.py:21: TqdmWarning: IProgress not found. Please update jupyter and ipywidgets. See https://ipywidgets.readthedocs.io/en/stable/user_install.html\n",
      "  from .autonotebook import tqdm as notebook_tqdm\n"
     ]
    }
   ],
   "source": [
    "import pandas as pd\n",
    "import numpy as np\n",
    "import matplotlib.pyplot as plt\n",
    "import seaborn as sns\n",
    "from sklearn.metrics import confusion_matrix, classification_report\n",
    "from transformers import pipeline\n",
    "import torch\n",
    "import sys\n",
    "sys.path.append('../')\n",
    "from functions.main_function import predict_sentiment, get_device"
   ]
  },
  {
   "cell_type": "markdown",
   "metadata": {},
   "source": [
    "## Load and Prepare Test Data"
   ]
  },
  {
   "cell_type": "code",
   "execution_count": 3,
   "metadata": {},
   "outputs": [
    {
     "name": "stdout",
     "output_type": "stream",
     "text": [
      "Sample size: 100\n"
     ]
    },
    {
     "name": "stderr",
     "output_type": "stream",
     "text": [
      "/var/folders/8b/6hqn4pk525z062z8jxyjv_vm0000gn/T/ipykernel_63592/218303703.py:2: DtypeWarning: Columns (0) have mixed types. Specify dtype option on import or set low_memory=False.\n",
      "  test_data = pd.read_csv('test.csv', header=None, names=['rating', 'title', 'text'])\n"
     ]
    }
   ],
   "source": [
    "# Load test data\n",
    "test_data = pd.read_csv('test.csv', header=None, names=['rating', 'title', 'text'])\n",
    "# Sample a smaller subset for faster evaluation\n",
    "test_sample = test_data.sample(n=100)\n",
    "print(f'Sample size: {len(test_sample)}')"
   ]
  },
  {
   "cell_type": "markdown",
   "metadata": {},
   "source": [
    "## Evaluate Model Performance"
   ]
  },
  {
   "cell_type": "code",
   "execution_count": 5,
   "metadata": {},
   "outputs": [
    {
     "name": "stdout",
     "output_type": "stream",
     "text": [
      "Using MPS\n"
     ]
    },
    {
     "name": "stderr",
     "output_type": "stream",
     "text": [
      "Device set to use mps\n"
     ]
    },
    {
     "name": "stdout",
     "output_type": "stream",
     "text": [
      "[{'label': 'negative', 'score': 0.9913870692253113}]\n",
      "{'negative': 0.9913870692253113}\n",
      "Using MPS\n"
     ]
    },
    {
     "name": "stderr",
     "output_type": "stream",
     "text": [
      "Device set to use mps\n"
     ]
    },
    {
     "name": "stdout",
     "output_type": "stream",
     "text": [
      "[{'label': 'neutral', 'score': 0.8667239546775818}]\n",
      "{'neutral': 0.8667239546775818}\n",
      "Using MPS\n"
     ]
    },
    {
     "name": "stderr",
     "output_type": "stream",
     "text": [
      "Device set to use mps\n"
     ]
    },
    {
     "name": "stdout",
     "output_type": "stream",
     "text": [
      "[{'label': 'positive', 'score': 0.9912529587745667}]\n",
      "{'positive': 0.9912529587745667}\n",
      "Using MPS\n"
     ]
    },
    {
     "name": "stderr",
     "output_type": "stream",
     "text": [
      "Device set to use mps\n"
     ]
    },
    {
     "name": "stdout",
     "output_type": "stream",
     "text": [
      "[{'label': 'negative', 'score': 0.9917846918106079}]\n",
      "{'negative': 0.9917846918106079}\n",
      "Using MPS\n"
     ]
    },
    {
     "name": "stderr",
     "output_type": "stream",
     "text": [
      "Device set to use mps\n"
     ]
    },
    {
     "name": "stdout",
     "output_type": "stream",
     "text": [
      "[{'label': 'positive', 'score': 0.9997215867042542}]\n",
      "{'positive': 0.9997215867042542}\n",
      "Using MPS\n"
     ]
    },
    {
     "name": "stderr",
     "output_type": "stream",
     "text": [
      "Device set to use mps\n"
     ]
    },
    {
     "name": "stdout",
     "output_type": "stream",
     "text": [
      "[{'label': 'neutral', 'score': 0.7262378931045532}]\n",
      "{'neutral': 0.7262378931045532}\n",
      "Using MPS\n"
     ]
    },
    {
     "name": "stderr",
     "output_type": "stream",
     "text": [
      "Device set to use mps\n"
     ]
    },
    {
     "name": "stdout",
     "output_type": "stream",
     "text": [
      "[{'label': 'positive', 'score': 0.9889822602272034}]\n",
      "{'positive': 0.9889822602272034}\n",
      "Using MPS\n"
     ]
    },
    {
     "name": "stderr",
     "output_type": "stream",
     "text": [
      "Device set to use mps\n"
     ]
    },
    {
     "name": "stdout",
     "output_type": "stream",
     "text": [
      "[{'label': 'positive', 'score': 0.9920001029968262}]\n",
      "{'positive': 0.9920001029968262}\n",
      "Using MPS\n"
     ]
    },
    {
     "name": "stderr",
     "output_type": "stream",
     "text": [
      "Device set to use mps\n"
     ]
    },
    {
     "name": "stdout",
     "output_type": "stream",
     "text": [
      "[{'label': 'negative', 'score': 0.8594900965690613}]\n",
      "{'negative': 0.8594900965690613}\n",
      "Using MPS\n"
     ]
    },
    {
     "name": "stderr",
     "output_type": "stream",
     "text": [
      "Device set to use mps\n"
     ]
    },
    {
     "name": "stdout",
     "output_type": "stream",
     "text": [
      "[{'label': 'positive', 'score': 0.9942781925201416}]\n",
      "{'positive': 0.9942781925201416}\n",
      "Using MPS\n"
     ]
    },
    {
     "name": "stderr",
     "output_type": "stream",
     "text": [
      "Device set to use mps\n"
     ]
    },
    {
     "name": "stdout",
     "output_type": "stream",
     "text": [
      "[{'label': 'negative', 'score': 0.9965125918388367}]\n",
      "{'negative': 0.9965125918388367}\n",
      "Using MPS\n"
     ]
    },
    {
     "name": "stderr",
     "output_type": "stream",
     "text": [
      "Device set to use mps\n"
     ]
    },
    {
     "name": "stdout",
     "output_type": "stream",
     "text": [
      "[{'label': 'negative', 'score': 0.8262796401977539}]\n",
      "{'negative': 0.8262796401977539}\n",
      "Using MPS\n"
     ]
    },
    {
     "name": "stderr",
     "output_type": "stream",
     "text": [
      "Device set to use mps\n"
     ]
    },
    {
     "name": "stdout",
     "output_type": "stream",
     "text": [
      "[{'label': 'positive', 'score': 0.9848812818527222}]\n",
      "{'positive': 0.9848812818527222}\n",
      "Using MPS\n"
     ]
    },
    {
     "name": "stderr",
     "output_type": "stream",
     "text": [
      "Device set to use mps\n"
     ]
    },
    {
     "name": "stdout",
     "output_type": "stream",
     "text": [
      "[{'label': 'positive', 'score': 0.9742587208747864}]\n",
      "{'positive': 0.9742587208747864}\n",
      "Using MPS\n"
     ]
    },
    {
     "name": "stderr",
     "output_type": "stream",
     "text": [
      "Device set to use mps\n"
     ]
    },
    {
     "name": "stdout",
     "output_type": "stream",
     "text": [
      "[{'label': 'positive', 'score': 0.9569882750511169}]\n",
      "{'positive': 0.9569882750511169}\n",
      "Using MPS\n"
     ]
    },
    {
     "name": "stderr",
     "output_type": "stream",
     "text": [
      "Device set to use mps\n"
     ]
    },
    {
     "name": "stdout",
     "output_type": "stream",
     "text": [
      "[{'label': 'neutral', 'score': 0.42882877588272095}]\n",
      "{'neutral': 0.42882877588272095}\n",
      "Using MPS\n"
     ]
    },
    {
     "name": "stderr",
     "output_type": "stream",
     "text": [
      "Device set to use mps\n"
     ]
    },
    {
     "name": "stdout",
     "output_type": "stream",
     "text": [
      "[{'label': 'positive', 'score': 0.8034246563911438}]\n",
      "{'positive': 0.8034246563911438}\n",
      "Using MPS\n"
     ]
    },
    {
     "name": "stderr",
     "output_type": "stream",
     "text": [
      "Device set to use mps\n"
     ]
    },
    {
     "name": "stdout",
     "output_type": "stream",
     "text": [
      "[{'label': 'negative', 'score': 0.6159156560897827}]\n",
      "{'negative': 0.6159156560897827}\n",
      "Using MPS\n"
     ]
    },
    {
     "name": "stderr",
     "output_type": "stream",
     "text": [
      "Device set to use mps\n"
     ]
    },
    {
     "name": "stdout",
     "output_type": "stream",
     "text": [
      "[{'label': 'negative', 'score': 0.7408115863800049}]\n",
      "{'negative': 0.7408115863800049}\n",
      "Using MPS\n"
     ]
    },
    {
     "name": "stderr",
     "output_type": "stream",
     "text": [
      "Device set to use mps\n"
     ]
    },
    {
     "name": "stdout",
     "output_type": "stream",
     "text": [
      "[{'label': 'negative', 'score': 0.9724940061569214}]\n",
      "{'negative': 0.9724940061569214}\n",
      "Using MPS\n"
     ]
    },
    {
     "name": "stderr",
     "output_type": "stream",
     "text": [
      "Device set to use mps\n"
     ]
    },
    {
     "name": "stdout",
     "output_type": "stream",
     "text": [
      "[{'label': 'negative', 'score': 0.999243974685669}]\n",
      "{'negative': 0.999243974685669}\n",
      "Using MPS\n"
     ]
    },
    {
     "name": "stderr",
     "output_type": "stream",
     "text": [
      "Device set to use mps\n"
     ]
    },
    {
     "name": "stdout",
     "output_type": "stream",
     "text": [
      "[{'label': 'positive', 'score': 0.9998966455459595}]\n",
      "{'positive': 0.9998966455459595}\n",
      "Using MPS\n"
     ]
    },
    {
     "name": "stderr",
     "output_type": "stream",
     "text": [
      "Device set to use mps\n"
     ]
    },
    {
     "name": "stdout",
     "output_type": "stream",
     "text": [
      "[{'label': 'positive', 'score': 0.9919353723526001}]\n",
      "{'positive': 0.9919353723526001}\n",
      "Using MPS\n"
     ]
    },
    {
     "name": "stderr",
     "output_type": "stream",
     "text": [
      "Device set to use mps\n"
     ]
    },
    {
     "name": "stdout",
     "output_type": "stream",
     "text": [
      "[{'label': 'positive', 'score': 0.9854323267936707}]\n",
      "{'positive': 0.9854323267936707}\n",
      "Using MPS\n"
     ]
    },
    {
     "name": "stderr",
     "output_type": "stream",
     "text": [
      "Device set to use mps\n"
     ]
    },
    {
     "name": "stdout",
     "output_type": "stream",
     "text": [
      "[{'label': 'negative', 'score': 0.9995279312133789}]\n",
      "{'negative': 0.9995279312133789}\n",
      "Using MPS\n"
     ]
    },
    {
     "name": "stderr",
     "output_type": "stream",
     "text": [
      "Device set to use mps\n"
     ]
    },
    {
     "name": "stdout",
     "output_type": "stream",
     "text": [
      "[{'label': 'neutral', 'score': 0.7823740243911743}]\n",
      "{'neutral': 0.7823740243911743}\n",
      "Using MPS\n"
     ]
    },
    {
     "name": "stderr",
     "output_type": "stream",
     "text": [
      "Device set to use mps\n"
     ]
    },
    {
     "name": "stdout",
     "output_type": "stream",
     "text": [
      "[{'label': 'negative', 'score': 0.9310244917869568}]\n",
      "{'negative': 0.9310244917869568}\n",
      "Using MPS\n"
     ]
    },
    {
     "name": "stderr",
     "output_type": "stream",
     "text": [
      "Device set to use mps\n"
     ]
    },
    {
     "name": "stdout",
     "output_type": "stream",
     "text": [
      "[{'label': 'negative', 'score': 0.8413367867469788}]\n",
      "{'negative': 0.8413367867469788}\n",
      "Using MPS\n"
     ]
    },
    {
     "name": "stderr",
     "output_type": "stream",
     "text": [
      "Device set to use mps\n"
     ]
    },
    {
     "name": "stdout",
     "output_type": "stream",
     "text": [
      "[{'label': 'negative', 'score': 0.9994981288909912}]\n",
      "{'negative': 0.9994981288909912}\n",
      "Using MPS\n"
     ]
    },
    {
     "name": "stderr",
     "output_type": "stream",
     "text": [
      "Device set to use mps\n"
     ]
    },
    {
     "name": "stdout",
     "output_type": "stream",
     "text": [
      "[{'label': 'positive', 'score': 0.8672184944152832}]\n",
      "{'positive': 0.8672184944152832}\n",
      "Using MPS\n"
     ]
    },
    {
     "name": "stderr",
     "output_type": "stream",
     "text": [
      "Device set to use mps\n"
     ]
    },
    {
     "name": "stdout",
     "output_type": "stream",
     "text": [
      "[{'label': 'negative', 'score': 0.9990948438644409}]\n",
      "{'negative': 0.9990948438644409}\n",
      "Using MPS\n"
     ]
    },
    {
     "name": "stderr",
     "output_type": "stream",
     "text": [
      "Device set to use mps\n"
     ]
    },
    {
     "name": "stdout",
     "output_type": "stream",
     "text": [
      "[{'label': 'positive', 'score': 0.9967753291130066}]\n",
      "{'positive': 0.9967753291130066}\n",
      "Using MPS\n"
     ]
    },
    {
     "name": "stderr",
     "output_type": "stream",
     "text": [
      "Device set to use mps\n"
     ]
    },
    {
     "name": "stdout",
     "output_type": "stream",
     "text": [
      "[{'label': 'negative', 'score': 0.8691574335098267}]\n",
      "{'negative': 0.8691574335098267}\n",
      "Using MPS\n"
     ]
    },
    {
     "name": "stderr",
     "output_type": "stream",
     "text": [
      "Device set to use mps\n"
     ]
    },
    {
     "name": "stdout",
     "output_type": "stream",
     "text": [
      "[{'label': 'negative', 'score': 0.5588075518608093}]\n",
      "{'negative': 0.5588075518608093}\n",
      "Using MPS\n"
     ]
    },
    {
     "name": "stderr",
     "output_type": "stream",
     "text": [
      "Device set to use mps\n"
     ]
    },
    {
     "name": "stdout",
     "output_type": "stream",
     "text": [
      "[{'label': 'negative', 'score': 0.9989104270935059}]\n",
      "{'negative': 0.9989104270935059}\n",
      "Using MPS\n"
     ]
    },
    {
     "name": "stderr",
     "output_type": "stream",
     "text": [
      "Device set to use mps\n"
     ]
    },
    {
     "name": "stdout",
     "output_type": "stream",
     "text": [
      "[{'label': 'neutral', 'score': 0.7739265561103821}]\n",
      "{'neutral': 0.7739265561103821}\n",
      "Using MPS\n"
     ]
    },
    {
     "name": "stderr",
     "output_type": "stream",
     "text": [
      "Device set to use mps\n"
     ]
    },
    {
     "name": "stdout",
     "output_type": "stream",
     "text": [
      "[{'label': 'negative', 'score': 0.7725439071655273}]\n",
      "{'negative': 0.7725439071655273}\n",
      "Using MPS\n"
     ]
    },
    {
     "name": "stderr",
     "output_type": "stream",
     "text": [
      "Device set to use mps\n"
     ]
    },
    {
     "name": "stdout",
     "output_type": "stream",
     "text": [
      "[{'label': 'negative', 'score': 0.9998712539672852}]\n",
      "{'negative': 0.9998712539672852}\n",
      "Using MPS\n"
     ]
    },
    {
     "name": "stderr",
     "output_type": "stream",
     "text": [
      "Device set to use mps\n"
     ]
    },
    {
     "name": "stdout",
     "output_type": "stream",
     "text": [
      "[{'label': 'negative', 'score': 0.9399923086166382}]\n",
      "{'negative': 0.9399923086166382}\n",
      "Using MPS\n"
     ]
    },
    {
     "name": "stderr",
     "output_type": "stream",
     "text": [
      "Device set to use mps\n"
     ]
    },
    {
     "name": "stdout",
     "output_type": "stream",
     "text": [
      "[{'label': 'positive', 'score': 0.4112909436225891}]\n",
      "{'positive': 0.4112909436225891}\n",
      "Using MPS\n"
     ]
    },
    {
     "name": "stderr",
     "output_type": "stream",
     "text": [
      "Device set to use mps\n"
     ]
    },
    {
     "name": "stdout",
     "output_type": "stream",
     "text": [
      "[{'label': 'positive', 'score': 0.5651878714561462}]\n",
      "{'positive': 0.5651878714561462}\n",
      "Using MPS\n"
     ]
    },
    {
     "name": "stderr",
     "output_type": "stream",
     "text": [
      "Device set to use mps\n"
     ]
    },
    {
     "name": "stdout",
     "output_type": "stream",
     "text": [
      "[{'label': 'negative', 'score': 0.9980652928352356}]\n",
      "{'negative': 0.9980652928352356}\n",
      "Using MPS\n"
     ]
    },
    {
     "name": "stderr",
     "output_type": "stream",
     "text": [
      "Device set to use mps\n"
     ]
    },
    {
     "name": "stdout",
     "output_type": "stream",
     "text": [
      "[{'label': 'positive', 'score': 0.8160269260406494}]\n",
      "{'positive': 0.8160269260406494}\n",
      "Using MPS\n"
     ]
    },
    {
     "name": "stderr",
     "output_type": "stream",
     "text": [
      "Device set to use mps\n"
     ]
    },
    {
     "name": "stdout",
     "output_type": "stream",
     "text": [
      "[{'label': 'positive', 'score': 0.9931114912033081}]\n",
      "{'positive': 0.9931114912033081}\n",
      "Using MPS\n"
     ]
    },
    {
     "name": "stderr",
     "output_type": "stream",
     "text": [
      "Device set to use mps\n"
     ]
    },
    {
     "name": "stdout",
     "output_type": "stream",
     "text": [
      "[{'label': 'negative', 'score': 0.9852691292762756}]\n",
      "{'negative': 0.9852691292762756}\n",
      "Using MPS\n"
     ]
    },
    {
     "name": "stderr",
     "output_type": "stream",
     "text": [
      "Device set to use mps\n"
     ]
    },
    {
     "name": "stdout",
     "output_type": "stream",
     "text": [
      "[{'label': 'positive', 'score': 0.9474624395370483}]\n",
      "{'positive': 0.9474624395370483}\n",
      "Using MPS\n"
     ]
    },
    {
     "name": "stderr",
     "output_type": "stream",
     "text": [
      "Device set to use mps\n"
     ]
    },
    {
     "name": "stdout",
     "output_type": "stream",
     "text": [
      "[{'label': 'negative', 'score': 0.9933913946151733}]\n",
      "{'negative': 0.9933913946151733}\n",
      "Using MPS\n"
     ]
    },
    {
     "name": "stderr",
     "output_type": "stream",
     "text": [
      "Device set to use mps\n"
     ]
    },
    {
     "name": "stdout",
     "output_type": "stream",
     "text": [
      "[{'label': 'negative', 'score': 0.9944981932640076}]\n",
      "{'negative': 0.9944981932640076}\n",
      "Using MPS\n"
     ]
    },
    {
     "name": "stderr",
     "output_type": "stream",
     "text": [
      "Device set to use mps\n"
     ]
    },
    {
     "name": "stdout",
     "output_type": "stream",
     "text": [
      "[{'label': 'neutral', 'score': 0.7295988202095032}]\n",
      "{'neutral': 0.7295988202095032}\n",
      "Using MPS\n"
     ]
    },
    {
     "name": "stderr",
     "output_type": "stream",
     "text": [
      "Device set to use mps\n"
     ]
    },
    {
     "name": "stdout",
     "output_type": "stream",
     "text": [
      "[{'label': 'negative', 'score': 0.6527218818664551}]\n",
      "{'negative': 0.6527218818664551}\n",
      "Using MPS\n"
     ]
    },
    {
     "name": "stderr",
     "output_type": "stream",
     "text": [
      "Device set to use mps\n"
     ]
    },
    {
     "name": "stdout",
     "output_type": "stream",
     "text": [
      "[{'label': 'negative', 'score': 0.9988051652908325}]\n",
      "{'negative': 0.9988051652908325}\n",
      "Using MPS\n"
     ]
    },
    {
     "name": "stderr",
     "output_type": "stream",
     "text": [
      "Device set to use mps\n"
     ]
    },
    {
     "name": "stdout",
     "output_type": "stream",
     "text": [
      "[{'label': 'neutral', 'score': 0.587773323059082}]\n",
      "{'neutral': 0.587773323059082}\n",
      "Using MPS\n"
     ]
    },
    {
     "name": "stderr",
     "output_type": "stream",
     "text": [
      "Device set to use mps\n"
     ]
    },
    {
     "name": "stdout",
     "output_type": "stream",
     "text": [
      "[{'label': 'negative', 'score': 0.49907469749450684}]\n",
      "{'negative': 0.49907469749450684}\n",
      "Using MPS\n"
     ]
    },
    {
     "name": "stderr",
     "output_type": "stream",
     "text": [
      "Device set to use mps\n"
     ]
    },
    {
     "name": "stdout",
     "output_type": "stream",
     "text": [
      "[{'label': 'negative', 'score': 0.777117133140564}]\n",
      "{'negative': 0.777117133140564}\n",
      "Using MPS\n"
     ]
    },
    {
     "name": "stderr",
     "output_type": "stream",
     "text": [
      "Device set to use mps\n"
     ]
    },
    {
     "name": "stdout",
     "output_type": "stream",
     "text": [
      "[{'label': 'negative', 'score': 0.962800920009613}]\n",
      "{'negative': 0.962800920009613}\n",
      "Using MPS\n"
     ]
    },
    {
     "name": "stderr",
     "output_type": "stream",
     "text": [
      "Device set to use mps\n"
     ]
    },
    {
     "name": "stdout",
     "output_type": "stream",
     "text": [
      "[{'label': 'positive', 'score': 0.9994175434112549}]\n",
      "{'positive': 0.9994175434112549}\n",
      "Using MPS\n"
     ]
    },
    {
     "name": "stderr",
     "output_type": "stream",
     "text": [
      "Device set to use mps\n"
     ]
    },
    {
     "name": "stdout",
     "output_type": "stream",
     "text": [
      "[{'label': 'positive', 'score': 0.9893280863761902}]\n",
      "{'positive': 0.9893280863761902}\n",
      "Using MPS\n"
     ]
    },
    {
     "name": "stderr",
     "output_type": "stream",
     "text": [
      "Device set to use mps\n"
     ]
    },
    {
     "name": "stdout",
     "output_type": "stream",
     "text": [
      "[{'label': 'negative', 'score': 0.9935091137886047}]\n",
      "{'negative': 0.9935091137886047}\n",
      "Using MPS\n"
     ]
    },
    {
     "name": "stderr",
     "output_type": "stream",
     "text": [
      "Device set to use mps\n"
     ]
    },
    {
     "name": "stdout",
     "output_type": "stream",
     "text": [
      "[{'label': 'negative', 'score': 0.9996509552001953}]\n",
      "{'negative': 0.9996509552001953}\n",
      "Using MPS\n"
     ]
    },
    {
     "name": "stderr",
     "output_type": "stream",
     "text": [
      "Device set to use mps\n"
     ]
    },
    {
     "name": "stdout",
     "output_type": "stream",
     "text": [
      "[{'label': 'positive', 'score': 0.9589419960975647}]\n",
      "{'positive': 0.9589419960975647}\n",
      "Using MPS\n"
     ]
    },
    {
     "name": "stderr",
     "output_type": "stream",
     "text": [
      "Device set to use mps\n"
     ]
    },
    {
     "name": "stdout",
     "output_type": "stream",
     "text": [
      "[{'label': 'negative', 'score': 0.9615391492843628}]\n",
      "{'negative': 0.9615391492843628}\n",
      "Using MPS\n"
     ]
    },
    {
     "name": "stderr",
     "output_type": "stream",
     "text": [
      "Device set to use mps\n"
     ]
    },
    {
     "name": "stdout",
     "output_type": "stream",
     "text": [
      "[{'label': 'positive', 'score': 0.969234824180603}]\n",
      "{'positive': 0.969234824180603}\n",
      "Using MPS\n"
     ]
    },
    {
     "name": "stderr",
     "output_type": "stream",
     "text": [
      "Device set to use mps\n"
     ]
    },
    {
     "name": "stdout",
     "output_type": "stream",
     "text": [
      "[{'label': 'positive', 'score': 0.8805588483810425}]\n",
      "{'positive': 0.8805588483810425}\n",
      "Using MPS\n"
     ]
    },
    {
     "name": "stderr",
     "output_type": "stream",
     "text": [
      "Device set to use mps\n"
     ]
    },
    {
     "name": "stdout",
     "output_type": "stream",
     "text": [
      "[{'label': 'positive', 'score': 0.9989206790924072}]\n",
      "{'positive': 0.9989206790924072}\n",
      "Using MPS\n"
     ]
    },
    {
     "name": "stderr",
     "output_type": "stream",
     "text": [
      "Device set to use mps\n"
     ]
    },
    {
     "name": "stdout",
     "output_type": "stream",
     "text": [
      "[{'label': 'negative', 'score': 0.9260600805282593}]\n",
      "{'negative': 0.9260600805282593}\n",
      "Using MPS\n"
     ]
    },
    {
     "name": "stderr",
     "output_type": "stream",
     "text": [
      "Device set to use mps\n"
     ]
    },
    {
     "name": "stdout",
     "output_type": "stream",
     "text": [
      "[{'label': 'negative', 'score': 0.9101777672767639}]\n",
      "{'negative': 0.9101777672767639}\n",
      "Using MPS\n"
     ]
    },
    {
     "name": "stderr",
     "output_type": "stream",
     "text": [
      "Device set to use mps\n"
     ]
    },
    {
     "name": "stdout",
     "output_type": "stream",
     "text": [
      "[{'label': 'positive', 'score': 0.9992225170135498}]\n",
      "{'positive': 0.9992225170135498}\n",
      "Using MPS\n"
     ]
    },
    {
     "name": "stderr",
     "output_type": "stream",
     "text": [
      "Device set to use mps\n"
     ]
    },
    {
     "name": "stdout",
     "output_type": "stream",
     "text": [
      "[{'label': 'negative', 'score': 0.9930070638656616}]\n",
      "{'negative': 0.9930070638656616}\n",
      "Using MPS\n"
     ]
    },
    {
     "name": "stderr",
     "output_type": "stream",
     "text": [
      "Device set to use mps\n"
     ]
    },
    {
     "name": "stdout",
     "output_type": "stream",
     "text": [
      "[{'label': 'negative', 'score': 0.9831956028938293}]\n",
      "{'negative': 0.9831956028938293}\n",
      "Using MPS\n"
     ]
    },
    {
     "name": "stderr",
     "output_type": "stream",
     "text": [
      "Device set to use mps\n"
     ]
    },
    {
     "name": "stdout",
     "output_type": "stream",
     "text": [
      "[{'label': 'positive', 'score': 0.9605950713157654}]\n",
      "{'positive': 0.9605950713157654}\n",
      "Using MPS\n"
     ]
    },
    {
     "name": "stderr",
     "output_type": "stream",
     "text": [
      "Device set to use mps\n"
     ]
    },
    {
     "name": "stdout",
     "output_type": "stream",
     "text": [
      "[{'label': 'positive', 'score': 0.9615801572799683}]\n",
      "{'positive': 0.9615801572799683}\n",
      "Using MPS\n"
     ]
    },
    {
     "name": "stderr",
     "output_type": "stream",
     "text": [
      "Device set to use mps\n"
     ]
    },
    {
     "name": "stdout",
     "output_type": "stream",
     "text": [
      "[{'label': 'negative', 'score': 0.6081749796867371}]\n",
      "{'negative': 0.6081749796867371}\n",
      "Using MPS\n"
     ]
    },
    {
     "name": "stderr",
     "output_type": "stream",
     "text": [
      "Device set to use mps\n"
     ]
    },
    {
     "name": "stdout",
     "output_type": "stream",
     "text": [
      "[{'label': 'positive', 'score': 0.47565382719039917}]\n",
      "{'positive': 0.47565382719039917}\n",
      "Using MPS\n"
     ]
    },
    {
     "name": "stderr",
     "output_type": "stream",
     "text": [
      "Device set to use mps\n"
     ]
    },
    {
     "name": "stdout",
     "output_type": "stream",
     "text": [
      "[{'label': 'negative', 'score': 0.9979211688041687}]\n",
      "{'negative': 0.9979211688041687}\n",
      "Using MPS\n"
     ]
    },
    {
     "name": "stderr",
     "output_type": "stream",
     "text": [
      "Device set to use mps\n"
     ]
    },
    {
     "name": "stdout",
     "output_type": "stream",
     "text": [
      "[{'label': 'positive', 'score': 0.9977813363075256}]\n",
      "{'positive': 0.9977813363075256}\n",
      "Using MPS\n"
     ]
    },
    {
     "name": "stderr",
     "output_type": "stream",
     "text": [
      "Device set to use mps\n"
     ]
    },
    {
     "name": "stdout",
     "output_type": "stream",
     "text": [
      "[{'label': 'negative', 'score': 0.9151041507720947}]\n",
      "{'negative': 0.9151041507720947}\n",
      "Using MPS\n"
     ]
    },
    {
     "name": "stderr",
     "output_type": "stream",
     "text": [
      "Device set to use mps\n"
     ]
    },
    {
     "name": "stdout",
     "output_type": "stream",
     "text": [
      "[{'label': 'positive', 'score': 0.9031733274459839}]\n",
      "{'positive': 0.9031733274459839}\n",
      "Using MPS\n"
     ]
    },
    {
     "name": "stderr",
     "output_type": "stream",
     "text": [
      "Device set to use mps\n"
     ]
    },
    {
     "name": "stdout",
     "output_type": "stream",
     "text": [
      "[{'label': 'positive', 'score': 0.9989950060844421}]\n",
      "{'positive': 0.9989950060844421}\n",
      "Using MPS\n"
     ]
    },
    {
     "name": "stderr",
     "output_type": "stream",
     "text": [
      "Device set to use mps\n"
     ]
    },
    {
     "name": "stdout",
     "output_type": "stream",
     "text": [
      "[{'label': 'negative', 'score': 0.5491438508033752}]\n",
      "{'negative': 0.5491438508033752}\n",
      "Using MPS\n"
     ]
    },
    {
     "name": "stderr",
     "output_type": "stream",
     "text": [
      "Device set to use mps\n"
     ]
    },
    {
     "name": "stdout",
     "output_type": "stream",
     "text": [
      "[{'label': 'negative', 'score': 0.991392970085144}]\n",
      "{'negative': 0.991392970085144}\n",
      "Using MPS\n"
     ]
    },
    {
     "name": "stderr",
     "output_type": "stream",
     "text": [
      "Device set to use mps\n"
     ]
    },
    {
     "name": "stdout",
     "output_type": "stream",
     "text": [
      "[{'label': 'negative', 'score': 0.9999750852584839}]\n",
      "{'negative': 0.9999750852584839}\n",
      "Using MPS\n"
     ]
    },
    {
     "name": "stderr",
     "output_type": "stream",
     "text": [
      "Device set to use mps\n"
     ]
    },
    {
     "name": "stdout",
     "output_type": "stream",
     "text": [
      "[{'label': 'positive', 'score': 0.9827515482902527}]\n",
      "{'positive': 0.9827515482902527}\n",
      "Using MPS\n"
     ]
    },
    {
     "name": "stderr",
     "output_type": "stream",
     "text": [
      "Device set to use mps\n"
     ]
    },
    {
     "name": "stdout",
     "output_type": "stream",
     "text": [
      "[{'label': 'negative', 'score': 0.9925689101219177}]\n",
      "{'negative': 0.9925689101219177}\n",
      "Using MPS\n"
     ]
    },
    {
     "name": "stderr",
     "output_type": "stream",
     "text": [
      "Device set to use mps\n"
     ]
    },
    {
     "name": "stdout",
     "output_type": "stream",
     "text": [
      "[{'label': 'negative', 'score': 0.9955716133117676}]\n",
      "{'negative': 0.9955716133117676}\n",
      "Using MPS\n"
     ]
    },
    {
     "name": "stderr",
     "output_type": "stream",
     "text": [
      "Device set to use mps\n"
     ]
    },
    {
     "name": "stdout",
     "output_type": "stream",
     "text": [
      "[{'label': 'negative', 'score': 0.9900988936424255}]\n",
      "{'negative': 0.9900988936424255}\n",
      "Using MPS\n"
     ]
    },
    {
     "name": "stderr",
     "output_type": "stream",
     "text": [
      "Device set to use mps\n"
     ]
    },
    {
     "name": "stdout",
     "output_type": "stream",
     "text": [
      "[{'label': 'positive', 'score': 0.9963082671165466}]\n",
      "{'positive': 0.9963082671165466}\n",
      "Using MPS\n"
     ]
    },
    {
     "name": "stderr",
     "output_type": "stream",
     "text": [
      "Device set to use mps\n"
     ]
    },
    {
     "name": "stdout",
     "output_type": "stream",
     "text": [
      "[{'label': 'positive', 'score': 0.9894557595252991}]\n",
      "{'positive': 0.9894557595252991}\n",
      "Using MPS\n"
     ]
    },
    {
     "name": "stderr",
     "output_type": "stream",
     "text": [
      "Device set to use mps\n"
     ]
    },
    {
     "name": "stdout",
     "output_type": "stream",
     "text": [
      "[{'label': 'positive', 'score': 0.9847234487533569}]\n",
      "{'positive': 0.9847234487533569}\n",
      "Using MPS\n"
     ]
    },
    {
     "name": "stderr",
     "output_type": "stream",
     "text": [
      "Device set to use mps\n"
     ]
    },
    {
     "name": "stdout",
     "output_type": "stream",
     "text": [
      "[{'label': 'negative', 'score': 0.7277142405509949}]\n",
      "{'negative': 0.7277142405509949}\n",
      "Using MPS\n"
     ]
    },
    {
     "name": "stderr",
     "output_type": "stream",
     "text": [
      "Device set to use mps\n"
     ]
    },
    {
     "name": "stdout",
     "output_type": "stream",
     "text": [
      "[{'label': 'negative', 'score': 0.9966781139373779}]\n",
      "{'negative': 0.9966781139373779}\n",
      "Using MPS\n"
     ]
    },
    {
     "name": "stderr",
     "output_type": "stream",
     "text": [
      "Device set to use mps\n"
     ]
    },
    {
     "name": "stdout",
     "output_type": "stream",
     "text": [
      "[{'label': 'negative', 'score': 0.9829487204551697}]\n",
      "{'negative': 0.9829487204551697}\n",
      "Using MPS\n"
     ]
    },
    {
     "name": "stderr",
     "output_type": "stream",
     "text": [
      "Device set to use mps\n"
     ]
    },
    {
     "name": "stdout",
     "output_type": "stream",
     "text": [
      "[{'label': 'positive', 'score': 0.9894827604293823}]\n",
      "{'positive': 0.9894827604293823}\n",
      "Using MPS\n"
     ]
    },
    {
     "name": "stderr",
     "output_type": "stream",
     "text": [
      "Device set to use mps\n"
     ]
    },
    {
     "name": "stdout",
     "output_type": "stream",
     "text": [
      "[{'label': 'negative', 'score': 0.9711227416992188}]\n",
      "{'negative': 0.9711227416992188}\n",
      "Using MPS\n"
     ]
    },
    {
     "name": "stderr",
     "output_type": "stream",
     "text": [
      "Device set to use mps\n"
     ]
    },
    {
     "name": "stdout",
     "output_type": "stream",
     "text": [
      "[{'label': 'positive', 'score': 0.9467531442642212}]\n",
      "{'positive': 0.9467531442642212}\n",
      "Using MPS\n"
     ]
    },
    {
     "name": "stderr",
     "output_type": "stream",
     "text": [
      "Device set to use mps\n"
     ]
    },
    {
     "name": "stdout",
     "output_type": "stream",
     "text": [
      "[{'label': 'positive', 'score': 0.9935494065284729}]\n",
      "{'positive': 0.9935494065284729}\n",
      "Using MPS\n"
     ]
    },
    {
     "name": "stderr",
     "output_type": "stream",
     "text": [
      "Device set to use mps\n"
     ]
    },
    {
     "name": "stdout",
     "output_type": "stream",
     "text": [
      "[{'label': 'negative', 'score': 0.9877265095710754}]\n",
      "{'negative': 0.9877265095710754}\n",
      "Using MPS\n"
     ]
    },
    {
     "name": "stderr",
     "output_type": "stream",
     "text": [
      "Device set to use mps\n"
     ]
    },
    {
     "name": "stdout",
     "output_type": "stream",
     "text": [
      "[{'label': 'positive', 'score': 0.9956448078155518}]\n",
      "{'positive': 0.9956448078155518}\n",
      "Using MPS\n"
     ]
    },
    {
     "name": "stderr",
     "output_type": "stream",
     "text": [
      "Device set to use mps\n"
     ]
    },
    {
     "name": "stdout",
     "output_type": "stream",
     "text": [
      "[{'label': 'negative', 'score': 0.6650133728981018}]\n",
      "{'negative': 0.6650133728981018}\n",
      "Using MPS\n"
     ]
    },
    {
     "name": "stderr",
     "output_type": "stream",
     "text": [
      "Device set to use mps\n"
     ]
    },
    {
     "name": "stdout",
     "output_type": "stream",
     "text": [
      "[{'label': 'positive', 'score': 0.998870313167572}]\n",
      "{'positive': 0.998870313167572}\n",
      "Using MPS\n"
     ]
    },
    {
     "name": "stderr",
     "output_type": "stream",
     "text": [
      "Device set to use mps\n"
     ]
    },
    {
     "name": "stdout",
     "output_type": "stream",
     "text": [
      "[{'label': 'neutral', 'score': 0.4855930209159851}]\n",
      "{'neutral': 0.4855930209159851}\n"
     ]
    }
   ],
   "source": [
    "def map_sentiment_to_rating(sentiment_result):\n",
    "    # Return neutral (3) if no result\n",
    "    if not sentiment_result or not isinstance(sentiment_result, list) or not sentiment_result:\n",
    "        return 3\n",
    "    \n",
    "    # Get the prediction dictionary from the list\n",
    "    prediction = sentiment_result[0]\n",
    "    if not isinstance(prediction, dict) or 'label' not in prediction:\n",
    "        return 3\n",
    "    \n",
    "    # Direct mapping from sentiment labels to ratings\n",
    "    sentiment_map = {\n",
    "        'Very Negative': 1,\n",
    "        'Negative': 2,\n",
    "        'Neutral': 3,\n",
    "        'Positive': 4,\n",
    "        'Very Positive': 5\n",
    "    }\n",
    "    \n",
    "    # Get the sentiment label and return corresponding rating\n",
    "    label = prediction['label']\n",
    "    return sentiment_map.get(label, 3)  # Default to neutral (3) if label not found\n",
    "\n",
    "# Get predictions\n",
    "predictions = []\n",
    "true_pred = []\n",
    "for text in test_sample['text']:\n",
    "    result = predict_sentiment(text)\n",
    "    true_pred.append(result)\n",
    "    predictions.append(map_sentiment_to_rating(result))\n",
    "\n",
    "# Convert predictions to numpy array\n",
    "predictions = np.array(predictions)\n",
    "true_ratings = test_sample['rating'].values"
   ]
  },
  {
   "cell_type": "markdown",
   "metadata": {},
   "source": [
    "## Visualization and Analysis"
   ]
  },
  {
   "cell_type": "code",
   "execution_count": 6,
   "metadata": {},
   "outputs": [
    {
     "name": "stdout",
     "output_type": "stream",
     "text": [
      "[{'negative': 0.9913870692253113}, {'neutral': 0.8667239546775818}, {'positive': 0.9912529587745667}, {'negative': 0.9917846918106079}, {'positive': 0.9997215867042542}, {'neutral': 0.7262378931045532}, {'positive': 0.9889822602272034}, {'positive': 0.9920001029968262}, {'negative': 0.8594900965690613}, {'positive': 0.9942781925201416}, {'negative': 0.9965125918388367}, {'negative': 0.8262796401977539}, {'positive': 0.9848812818527222}, {'positive': 0.9742587208747864}, {'positive': 0.9569882750511169}, {'neutral': 0.42882877588272095}, {'positive': 0.8034246563911438}, {'negative': 0.6159156560897827}, {'negative': 0.7408115863800049}, {'negative': 0.9724940061569214}, {'negative': 0.999243974685669}, {'positive': 0.9998966455459595}, {'positive': 0.9919353723526001}, {'positive': 0.9854323267936707}, {'negative': 0.9995279312133789}, {'neutral': 0.7823740243911743}, {'negative': 0.9310244917869568}, {'negative': 0.8413367867469788}, {'negative': 0.9994981288909912}, {'positive': 0.8672184944152832}, {'negative': 0.9990948438644409}, {'positive': 0.9967753291130066}, {'negative': 0.8691574335098267}, {'negative': 0.5588075518608093}, {'negative': 0.9989104270935059}, {'neutral': 0.7739265561103821}, {'negative': 0.7725439071655273}, {'negative': 0.9998712539672852}, {'negative': 0.9399923086166382}, {'positive': 0.4112909436225891}, {'positive': 0.5651878714561462}, {'negative': 0.9980652928352356}, {'positive': 0.8160269260406494}, {'positive': 0.9931114912033081}, {'negative': 0.9852691292762756}, {'positive': 0.9474624395370483}, {'negative': 0.9933913946151733}, {'negative': 0.9944981932640076}, {'neutral': 0.7295988202095032}, {'negative': 0.6527218818664551}, {'negative': 0.9988051652908325}, {'neutral': 0.587773323059082}, {'negative': 0.49907469749450684}, {'negative': 0.777117133140564}, {'negative': 0.962800920009613}, {'positive': 0.9994175434112549}, {'positive': 0.9893280863761902}, {'negative': 0.9935091137886047}, {'negative': 0.9996509552001953}, {'positive': 0.9589419960975647}, {'negative': 0.9615391492843628}, {'positive': 0.969234824180603}, {'positive': 0.8805588483810425}, {'positive': 0.9989206790924072}, {'negative': 0.9260600805282593}, {'negative': 0.9101777672767639}, {'positive': 0.9992225170135498}, {'negative': 0.9930070638656616}, {'negative': 0.9831956028938293}, {'positive': 0.9605950713157654}, {'positive': 0.9615801572799683}, {'negative': 0.6081749796867371}, {'positive': 0.47565382719039917}, {'negative': 0.9979211688041687}, {'positive': 0.9977813363075256}, {'negative': 0.9151041507720947}, {'positive': 0.9031733274459839}, {'positive': 0.9989950060844421}, {'negative': 0.5491438508033752}, {'negative': 0.991392970085144}, {'negative': 0.9999750852584839}, {'positive': 0.9827515482902527}, {'negative': 0.9925689101219177}, {'negative': 0.9955716133117676}, {'negative': 0.9900988936424255}, {'positive': 0.9963082671165466}, {'positive': 0.9894557595252991}, {'positive': 0.9847234487533569}, {'negative': 0.7277142405509949}, {'negative': 0.9966781139373779}, {'negative': 0.9829487204551697}, {'positive': 0.9894827604293823}, {'negative': 0.9711227416992188}, {'positive': 0.9467531442642212}, {'positive': 0.9935494065284729}, {'negative': 0.9877265095710754}, {'positive': 0.9956448078155518}, {'negative': 0.6650133728981018}, {'positive': 0.998870313167572}, {'neutral': 0.4855930209159851}]\n",
      "Predicted ratings: [2, 3, 4, 2, 4, 3, 4, 4, 2, 4, 2, 2, 4, 4, 4, 3, 4, 2, 2, 2, 2, 4, 4, 4, 2, 3, 2, 2, 2, 4, 2, 4, 2, 2, 2, 3, 2, 2, 2, 4, 4, 2, 4, 4, 2, 4, 2, 2, 3, 2, 2, 3, 2, 2, 2, 4, 4, 2, 2, 4, 2, 4, 4, 4, 2, 2, 4, 2, 2, 4, 4, 2, 4, 2, 4, 2, 4, 4, 2, 2, 2, 4, 2, 2, 2, 4, 4, 4, 2, 2, 2, 4, 2, 4, 4, 2, 4, 2, 4, 3]\n",
      "True ratings: [2 3 4 2 4 2 4 4 4 4 2 2 4 4 4 2 4 2 3 3 2 4 4 4 2 3 2 2 2 4 2 4 2 2 2 3 2\n",
      " 2 2 4 3 2 4 4 2 4 2 2 4 2 2 2 2 2 3 4 4 2 2 4 4 4 3 4 2 3 4 2 3 4 4 3 3 2\n",
      " 4 2 3 4 3 2 2 4 2 2 2 4 3 4 3 2 2 4 2 4 4 2 4 2 4 4]\n",
      "2\n"
     ]
    }
   ],
   "source": [
    "# Convert true_pred to numerical ratings (2-4)\n",
    "pred = []\n",
    "print(true_pred)\n",
    "for item in true_pred:\n",
    "    sentiment = list(item.keys())[0]\n",
    "    if sentiment in ['Very Negative', 'negative']:\n",
    "        pred.append(2)\n",
    "    elif sentiment == 'neutral':\n",
    "        pred.append(3)\n",
    "    elif sentiment in ['Very Positive', 'positive']:\n",
    "        pred.append(4)\n",
    "\n",
    "# Convert true_ratings to integer array and map 1-5 to 2-4\n",
    "true_ratings = np.array(true_ratings).astype(int)\n",
    "# Map 1 to 2 and 5 to 4å√\n",
    "true_ratings = np.where(true_ratings == 1, 2, true_ratings)\n",
    "true_ratings = np.where(true_ratings == 5, 4, true_ratings)\n",
    "\n",
    "print(\"Predicted ratings:\", pred)\n",
    "print(\"True ratings:\", true_ratings)\n",
    "print(true_ratings[0])"
   ]
  },
  {
   "cell_type": "code",
   "execution_count": 7,
   "metadata": {},
   "outputs": [
    {
     "data": {
      "image/png": "[encoded data removed]",
      "text/plain": [
       "<Figure size 1000x800 with 2 Axes>"
      ]
     },
     "metadata": {},
     "output_type": "display_data"
    },
    {
     "name": "stdout",
     "output_type": "stream",
     "text": [
      "Classification Report:\n",
      "              precision    recall  f1-score   support\n",
      "\n",
      "           2       0.80      0.93      0.86        44\n",
      "           3       0.38      0.19      0.25        16\n",
      "           4       0.88      0.90      0.89        40\n",
      "\n",
      "    accuracy                           0.80       100\n",
      "   macro avg       0.69      0.67      0.67       100\n",
      "weighted avg       0.76      0.80      0.78       100\n",
      "\n"
     ]
    }
   ],
   "source": [
    "# Create confusion matrix\n",
    "cm = confusion_matrix(true_ratings, pred)\n",
    "\n",
    "# Plot confusion matrix\n",
    "plt.figure(figsize=(10, 8))\n",
    "sns.heatmap(cm, annot=True, fmt='d', cmap='Blues')\n",
    "plt.title('Confusion Matrix')\n",
    "plt.xlabel('Predicted Rating')\n",
    "plt.ylabel('True Rating')\n",
    "plt.show()\n",
    "\n",
    "# Print classification report\n",
    "print('Classification Report:')\n",
    "print(classification_report(true_ratings, pred))"
   ]
  },
  {
   "cell_type": "markdown",
   "metadata": {},
   "source": [
    "## Error Analysis"
   ]
  },
  {
   "cell_type": "code",
   "execution_count": 11,
   "metadata": {},
   "outputs": [
    {
     "name": "stdout",
     "output_type": "stream",
     "text": [
      "2 4\n",
      "2 4\n"
     ]
    },
    {
     "data": {
      "image/png": "[encoded data removed]",
      "text/plain": [
       "<Figure size 600x300 with 1 Axes>"
      ]
     },
     "metadata": {},
     "output_type": "display_data"
    },
    {
     "name": "stdout",
     "output_type": "stream",
     "text": [
      "Mean Absolute Error: 0.22\n",
      "Median Absolute Error: 0.00\n"
     ]
    }
   ],
   "source": [
    "# Calculate error distribution\n",
    "errors = np.abs(true_ratings - pred)\n",
    "print(min(true_ratings), max(true_ratings))\n",
    "print(min(pred), max(pred))\n",
    "plt.figure(figsize=(6, 3))\n",
    "plt.hist(errors, bins=range(6), align='left', rwidth=0.8)\n",
    "plt.title('Distribution of Prediction Errors')\n",
    "plt.xlabel('Absolute Error (Rating Points)')\n",
    "plt.ylabel('Count')\n",
    "plt.xticks(range(3))\n",
    "plt.show()\n",
    "\n",
    "print(f'Mean Absolute Error: {np.mean(errors):.2f}')\n",
    "print(f'Median Absolute Error: {np.median(errors):.2f}')"
   ]
  },
  {
   "cell_type": "markdown",
   "metadata": {},
   "source": [
    "## Sample Error Cases"
   ]
  },
  {
   "cell_type": "code",
   "execution_count": 13,
   "metadata": {},
   "outputs": [
    {
     "name": "stdout",
     "output_type": "stream",
     "text": [
      "Top 5 cases with largest prediction errors:\n",
      "True Rating: 4\n",
      "Predicted Rating: 2\n",
      "Text: This movie assists young boys in imaginative dance techniques. The instuctor does not use technical names for any of the movements but tells them basically to dance and move in story form. It is great for learning the movement but would need real instruction to learn correct names etc.... After each child student segment there is and older dancer showing the correct way to do it.\n",
      "True Rating: 5\n",
      "Predicted Rating: 2\n",
      "Text: NHT only honors the 5 year warranty on these speakers if purchased through an authorized dealer. Amazon.com is NOT authorized. The only .com authorized to sell these with a warranty is Crutchfield.comJust a warning to all of you out there.\n",
      "True Rating: 2\n",
      "Predicted Rating: 3\n",
      "Text: A very well made product and great for the minimalist type of folks.Wife like the looks of the leather but I view this tote did not provide me the return on investment when compared to alternatives. an item that is greater than $100 should have served me more than an open tote that does not prevent the tool from falling out. it has NO internal pockets nor outside pockets for smaller items that I would like to access quickly.This is designed for people (like my wife) who enjoys the looks more than its functionality it provides.alternatively, there are MANY more economically and functional options if you want to use this as a working tote.\n",
      "True Rating: 2\n",
      "Predicted Rating: 3\n",
      "Text: I'm not a big fan of the Grateful Dead, but I purchased Skeletons from the Closet for \"Truckin\" and \"Casey Jones\", and those are the only songs that I cared for from this cd.\n",
      "True Rating: 3\n",
      "Predicted Rating: 2\n",
      "Text: This book has some excellent insights but is dangerous for those who are struggling to find meaning and success in their lives. Let's face it, all we have control over in life is the power of personal choice, and if the mind is as bad as Tolle states in his books, then why does he use the mind (in the form of writing) to communicate his message??!! I suggest you take a sensible path to making the most of life by reading books such as Optimal Thinking: How to Be Your Best Self and The Seven Habits of Highly Effective People.\n"
     ]
    }
   ],
   "source": [
    "# Find cases with largest prediction errors\n",
    "test_sample['predicted_rating'] = pred\n",
    "test_sample['error'] = errors\n",
    "\n",
    "print('Top 5 cases with largest prediction errors:')\n",
    "error_cases = test_sample.nlargest(5, 'error')\n",
    "for _, case in error_cases.iterrows():\n",
    "    print(f'True Rating: {case[\"rating\"]}')\n",
    "    print(f'Predicted Rating: {case[\"predicted_rating\"]}')\n",
    "    print(f'Text: {case[\"text\"]}')"
   ]
  },
  {
   "cell_type": "code",
   "execution_count": null,
   "metadata": {},
   "outputs": [],
   "source": []
  },
  {
   "cell_type": "code",
   "execution_count": null,
   "metadata": {},
   "outputs": [],
   "source": []
  },
  {
   "cell_type": "code",
   "execution_count": null,
   "metadata": {},
   "outputs": [],
   "source": []
  }
 ],
 "metadata": {
  "kernelspec": {
   "display_name": "Python 3",
   "language": "python",
   "name": "python3"
  },
  "language_info": {
   "codemirror_mode": {
    "name": "ipython",
    "version": 3
   },
   "file_extension": ".py",
   "mimetype": "text/x-python",
   "name": "python",
   "nbconvert_exporter": "python",
   "pygments_lexer": "ipython3",
   "version": "3.10.16"
  }
 },
 "nbformat": 4,
 "nbformat_minor": 4
}
